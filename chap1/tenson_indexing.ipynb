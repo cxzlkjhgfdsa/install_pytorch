{
 "cells": [
  {
   "metadata": {},
   "cell_type": "markdown",
   "source": "### Pytorch 의 인덱싱과 슬라이싱",
   "id": "42fc563798207872"
  },
  {
   "metadata": {
    "ExecuteTime": {
     "end_time": "2025-05-15T02:37:28.234496Z",
     "start_time": "2025-05-15T02:37:25.460810Z"
    }
   },
   "cell_type": "code",
   "source": "import torch",
   "id": "b7857d8d29c2e325",
   "outputs": [],
   "execution_count": 1
  },
  {
   "cell_type": "code",
   "id": "initial_id",
   "metadata": {
    "collapsed": true,
    "ExecuteTime": {
     "end_time": "2025-05-15T02:38:12.026580Z",
     "start_time": "2025-05-15T02:38:12.022215Z"
    }
   },
   "source": [
    "a = torch.tensor([1,2,3,4,5,6,7,8,9])\n",
    "print(a[0])\n",
    "print(a[-1])\n",
    "print(a[1:4])\n",
    "print(a[7:])\n",
    "print(a[:7])\n",
    "print(a[:])"
   ],
   "outputs": [
    {
     "name": "stdout",
     "output_type": "stream",
     "text": [
      "tensor(1)\n",
      "tensor(9)\n",
      "tensor([2, 3, 4])\n",
      "tensor([8, 9])\n",
      "tensor([1, 2, 3, 4, 5, 6, 7])\n",
      "tensor([1, 2, 3, 4, 5, 6, 7, 8, 9])\n"
     ]
    }
   ],
   "execution_count": 3
  },
  {
   "metadata": {
    "ExecuteTime": {
     "end_time": "2025-05-15T02:55:37.965802Z",
     "start_time": "2025-05-15T02:55:37.960146Z"
    }
   },
   "cell_type": "code",
   "source": [
    "A = torch.tensor([[1,2,3],[4,5,6],[7,8,9]])\n",
    "print(A[0]) # 하나만 쓰면 행에 대한 인덱싱\n",
    "print(A[-1])\n",
    "print(A[1:])\n",
    "print(A[0][2])\n",
    "print(A[0,2]) # <- 이건 리스트에선 안됨\n",
    "print(A[1,:])\n",
    "print(A[0, 0:3:2])\n",
    "print(A[:,2]) # 모든행 , 2번째 열\n",
    "print(A[:][2]) # A[:] <- A 에대해서 인덱싱 하겠다 (A[:] = A)\n",
    "                # 그 A 중에서 [2] <=> A[2]"
   ],
   "id": "cbaf64889a2ab1fa",
   "outputs": [
    {
     "name": "stdout",
     "output_type": "stream",
     "text": [
      "tensor([1, 2, 3])\n",
      "tensor([7, 8, 9])\n",
      "tensor([[4, 5, 6],\n",
      "        [7, 8, 9]])\n",
      "tensor(3)\n",
      "tensor(3)\n",
      "tensor([4, 5, 6])\n",
      "tensor([1, 3])\n",
      "tensor([3, 6, 9])\n",
      "tensor([7, 8, 9])\n"
     ]
    }
   ],
   "execution_count": 16
  },
  {
   "metadata": {
    "ExecuteTime": {
     "end_time": "2025-05-15T02:58:50.989356Z",
     "start_time": "2025-05-15T02:58:50.984313Z"
    }
   },
   "cell_type": "code",
   "source": [
    "A = torch.tensor([ [[0,1,2,3], [4,5,6,7], [8,9,10,11]],\n",
    "                   [[12,13,14,15], [16,17,18,19], [20,21,22,23]],])\n",
    "\n",
    "print(A)\n",
    "print(A.shape)\n",
    "print(A[0,1,2])\n",
    "a = torch.tensor([[1,2,3,4]])\n",
    "print(a.shape) # 대괄호가 하나 늘어나면 왼쪽에 shape 값이 추가 된다\n"
   ],
   "id": "68c9880ed041d1fa",
   "outputs": [
    {
     "name": "stdout",
     "output_type": "stream",
     "text": [
      "tensor([[[ 0,  1,  2,  3],\n",
      "         [ 4,  5,  6,  7],\n",
      "         [ 8,  9, 10, 11]],\n",
      "\n",
      "        [[12, 13, 14, 15],\n",
      "         [16, 17, 18, 19],\n",
      "         [20, 21, 22, 23]]])\n",
      "torch.Size([2, 3, 4])\n",
      "tensor(6)\n",
      "torch.Size([1, 4])\n"
     ]
    }
   ],
   "execution_count": 19
  },
  {
   "metadata": {},
   "cell_type": "markdown",
   "source": "### 고급 인덱싱",
   "id": "16b10594d1d9a8ca"
  },
  {
   "metadata": {
    "ExecuteTime": {
     "end_time": "2025-05-15T03:03:13.326687Z",
     "start_time": "2025-05-15T03:03:13.319843Z"
    }
   },
   "cell_type": "code",
   "source": [
    "# 리스트로 인덱싱\n",
    "print(A)\n",
    "A[[0,1,1,0],[0,1,2,1],[3,3,2,1]]\n",
    "# => [(0,0,3),(1,1,3),(1,2,2),(0,1,1)]"
   ],
   "id": "65ddcb3026c88b9c",
   "outputs": [
    {
     "name": "stdout",
     "output_type": "stream",
     "text": [
      "tensor([[[ 0,  1,  2,  3],\n",
      "         [ 4,  5,  6,  7],\n",
      "         [ 8,  9, 10, 11]],\n",
      "\n",
      "        [[12, 13, 14, 15],\n",
      "         [16, 17, 18, 19],\n",
      "         [20, 21, 22, 23]]])\n"
     ]
    },
    {
     "data": {
      "text/plain": [
       "tensor([ 3, 19, 22,  5])"
      ]
     },
     "execution_count": 21,
     "metadata": {},
     "output_type": "execute_result"
    }
   ],
   "execution_count": 21
  },
  {
   "metadata": {
    "ExecuteTime": {
     "end_time": "2025-05-15T03:22:05.350817Z",
     "start_time": "2025-05-15T03:22:05.345643Z"
    }
   },
   "cell_type": "code",
   "source": [
    "#boolean 인덱싱\n",
    "a = [1,2,3,4,5,3,3]\n",
    "print(a==3) # 여러개 값 들어있는 리스트 랑 3이 같나? -> 다름\n",
    "A = torch.tensor([[1,2,3,4],[5,3,7,3]])\n",
    "print(A>3) # 리스트와 달리 각 성분에 대해 비교해서 결과값을 줌\n",
    "print(A[A>3]) # True, False 가 담긴 행렬로 인덱싱 가능\n",
    "\n",
    "A[A>3] = 100\n",
    "print(A) # 3보다 큰 애들을 100으로 바꾸는 작업도 가능함\n",
    "         # for 문 쓰지 않고 처리할 수 있다는 것이 참 좋네요\n",
    "A = torch.tensor([[1,2],[3,4],[5,6],[7,8]])\n",
    "B = torch.tensor([True, False, True, False]) # 그냥 리스트 여도 상관 X\n",
    "print(A[B,:])\n",
    "b = torch.tensor([1,2,3,4])\n",
    "print(b[[True,False,True,False]])\n",
    "c = [1,2,3,4]\n",
    "# c[[True,True,False,False]] <- 에러"
   ],
   "id": "f0de339a53f186a3",
   "outputs": [
    {
     "name": "stdout",
     "output_type": "stream",
     "text": [
      "False\n",
      "tensor([[False, False, False,  True],\n",
      "        [ True, False,  True, False]])\n",
      "tensor([4, 5, 7])\n",
      "tensor([[  1,   2,   3, 100],\n",
      "        [100,   3, 100,   3]])\n",
      "tensor([[1, 2],\n",
      "        [5, 6]])\n",
      "tensor([1, 3])\n"
     ]
    }
   ],
   "execution_count": 41
  },
  {
   "metadata": {
    "ExecuteTime": {
     "end_time": "2025-05-15T03:41:11.685960Z",
     "start_time": "2025-05-15T03:41:11.571326Z"
    }
   },
   "cell_type": "code",
   "source": [
    "# tensor 로 인덱싱\n",
    "a = torch.tensor([1,2,3,4,5])\n",
    "A = a[2]\n",
    "print(A)\n",
    "A = a[ torch.tensor([2])]\n",
    "print(A)\n",
    "A = a[ torch.tensor([2,3,4])]\n",
    "print(A)\n",
    "A = a[ torch.tensor([[2,2,2],[3,3,3]])]\n",
    "print(A) # 인덱싱 된 애들로 새로운 행렬을 구성\n",
    "\n",
    "a = torch.tensor([1,2,3])\n",
    "print(a[torch.tensor([[1,1,1],[2,2,2]])]) # 리스트로 인덱싱 하는것과 다르다\n",
    "\n",
    "a = torch.tensor([[1,2,3],[4,5,6]])\n",
    "print(a[torch.tensor(0)])\n",
    "print(a[torch.tensor([0,0,0])]) # <- [a[0],a[0],a[0]]\n",
    "A = a[torch.tensor([[0,1],[0,1]])] # [[a[0],a[1]],[a[0],a[1]] = 2 * 2 * 3 -> 2행 3열 짜리가 2개 있는 것\n",
    "print(A)\n",
    "print(A.shape)\n",
    "\n",
    "# 이런건 어디다가 쓰는것일까?\n",
    "# segmentation 결과 그림을 보여줄 때 사용!\n",
    "# 구분한 obejct 를 나타낼 때 특정 색깔로 바꿔서 출력 해줘야 함 (r, g, b)\n",
    "b = torch.tensor([[225,225,0],[0,255,0],[0,0,255],[255,0,255],[70,80,75],[0,0,4],[60,100,255]])\n",
    "import matplotlib.pyplot as plt\n",
    "plt.imshow(b[torch.tensor([[0,1,6],[1,2,5],[3,0,4]])])\n"
   ],
   "id": "a434c82d6f98cbf6",
   "outputs": [
    {
     "name": "stdout",
     "output_type": "stream",
     "text": [
      "tensor(3)\n",
      "tensor([3])\n",
      "tensor([3, 4, 5])\n",
      "tensor([[3, 3, 3],\n",
      "        [4, 4, 4]])\n",
      "tensor([[2, 2, 2],\n",
      "        [3, 3, 3]])\n",
      "tensor([1, 2, 3])\n",
      "tensor([[1, 2, 3],\n",
      "        [1, 2, 3],\n",
      "        [1, 2, 3]])\n",
      "tensor([[[1, 2, 3],\n",
      "         [4, 5, 6]],\n",
      "\n",
      "        [[1, 2, 3],\n",
      "         [4, 5, 6]]])\n",
      "torch.Size([2, 2, 3])\n"
     ]
    },
    {
     "data": {
      "text/plain": [
       "<matplotlib.image.AxesImage at 0x126ddcd90>"
      ]
     },
     "execution_count": 57,
     "metadata": {},
     "output_type": "execute_result"
    },
    {
     "data": {
      "text/plain": [
       "<Figure size 640x480 with 1 Axes>"
      ],
      "image/png": "[encoded data removed]"
     },
     "metadata": {},
     "output_type": "display_data"
    }
   ],
   "execution_count": 57
  },
  {
   "metadata": {
    "ExecuteTime": {
     "end_time": "2025-05-15T04:15:02.234068Z",
     "start_time": "2025-05-15T04:15:02.229392Z"
    }
   },
   "cell_type": "code",
   "source": [
    "# 문제\n",
    "a = torch.tensor([[1,2,3],[4,5,6]])\n",
    "\n",
    "A = a[torch.tensor([[0,1],[1,1]])]\n",
    "# A 와 같은 것을 리스트 인덱싱을 통해 얻으려면?\n",
    "\n",
    "# B = a[\n",
    "#   [[[0,0,0],[0,1,2]],\n",
    "#    [[1,1,1],[0,1,2]]],\n",
    "#\n",
    "#   [[[1,1,1],[0,1,2]],\n",
    "#    [[1,1,1],[0,1,2]]]\n",
    "# ]\n",
    "\n",
    "B = a[ [[[0,0,0],[1,1,1]], [[1,1,1],[1,1,1]]],\n",
    "    [[[0,1,2],[0,1,2]],[[0,1,2],[0,1,2]]]]\n",
    "print(A)\n",
    "print(B)\n",
    "\n",
    "# 어우 복잡해\n",
    "\n"
   ],
   "id": "146d730f47443fe0",
   "outputs": [
    {
     "name": "stdout",
     "output_type": "stream",
     "text": [
      "tensor([[[1, 2, 3],\n",
      "         [4, 5, 6]],\n",
      "\n",
      "        [[4, 5, 6],\n",
      "         [4, 5, 6]]])\n",
      "tensor([[[1, 2, 3],\n",
      "         [4, 5, 6]],\n",
      "\n",
      "        [[4, 5, 6],\n",
      "         [4, 5, 6]]])\n"
     ]
    }
   ],
   "execution_count": 66
  },
  {
   "metadata": {},
   "cell_type": "markdown",
   "source": "### 정리",
   "id": "422055528d861bd1"
  },
  {
   "metadata": {
    "ExecuteTime": {
     "end_time": "2025-05-15T04:39:37.182808Z",
     "start_time": "2025-05-15T04:39:37.175526Z"
    }
   },
   "cell_type": "code",
   "source": [
    "A = torch.tensor([[1,2,6],[3,4,7],[5,6,2],[7,8,9]])\n",
    "print(A)\n",
    "print(A.shape)\n",
    "\n",
    "#1. A[i, j] <-> A[i][j] : i번째 행 , j 번째 열의 값\n",
    "print(A[0,1])\n",
    "# 2-1. A[[몇 번째 행인가],[몇번째 열인가]]\n",
    "print(A[[0,2,3,1,2],[1,1,2,0,0]])\n",
    "# 2-2 A[ [[행],[행]] [[열],[열]] ]\n",
    "print(A[ [[0,1],[2,3]],[[1,1],[0,0]]])\n",
    "# 3. A [ tensor(bool) ] => true 인 element값 만 반환 -> 이때 bool 의 shape 은 A 와 같음\n",
    "print(A[ torch.tensor([[True,False,True],[False,True,False],[True,False,True],[False,True,False]])])\n",
    "print(A == 2) # => 각 요소마다 비교해서 boolean 값 반환 이때 shape 은 비교 행렬과 같음\n",
    "# 4. A[몇 번째 값에 True 가 있냐, 몇 번째 값에 True 가 있냐]\n",
    "print(A[[True,False,True,False],[False,True,True]])\n",
    "# 5. A[ tensor ] => 몇 번째 것을 어떻게 쌓을것인가\n",
    "print(A [ torch.tensor([1,1,2,2,2])])"
   ],
   "id": "82b557e709543e54",
   "outputs": [
    {
     "name": "stdout",
     "output_type": "stream",
     "text": [
      "tensor([[1, 2, 6],\n",
      "        [3, 4, 7],\n",
      "        [5, 6, 2],\n",
      "        [7, 8, 9]])\n",
      "torch.Size([4, 3])\n",
      "tensor(2)\n",
      "tensor([2, 6, 9, 3, 5])\n",
      "tensor([[2, 4],\n",
      "        [5, 7]])\n",
      "tensor([1, 6, 4, 5, 2, 8])\n",
      "tensor([[False,  True, False],\n",
      "        [False, False, False],\n",
      "        [False, False,  True],\n",
      "        [False, False, False]])\n",
      "tensor([2, 2])\n",
      "tensor([[3, 4, 7],\n",
      "        [3, 4, 7],\n",
      "        [5, 6, 2],\n",
      "        [5, 6, 2],\n",
      "        [5, 6, 2]])\n"
     ]
    }
   ],
   "execution_count": 77
  },
  {
   "metadata": {},
   "cell_type": "code",
   "outputs": [],
   "execution_count": null,
   "source": "",
   "id": "671ecf547a7fc891"
  }
 ],
 "metadata": {
  "kernelspec": {
   "display_name": "Python 3",
   "language": "python",
   "name": "python3"
  },
  "language_info": {
   "codemirror_mode": {
    "name": "ipython",
    "version": 2
   },
   "file_extension": ".py",
   "mimetype": "text/x-python",
   "name": "python",
   "nbconvert_exporter": "python",
   "pygments_lexer": "ipython2",
   "version": "2.7.6"
  }
 },
 "nbformat": 4,
 "nbformat_minor": 5
}
