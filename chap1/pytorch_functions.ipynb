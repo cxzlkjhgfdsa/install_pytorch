{
 "cells": [
  {
   "metadata": {},
   "cell_type": "markdown",
   "source": "### Pytorch 의 여러가지 함수들",
   "id": "469feb312a6574de"
  },
  {
   "metadata": {
    "ExecuteTime": {
     "end_time": "2025-05-16T14:14:41.143096Z",
     "start_time": "2025-05-16T14:14:38.535461Z"
    }
   },
   "cell_type": "code",
   "source": "import torch",
   "id": "cb139185727268cf",
   "outputs": [],
   "execution_count": 1
  },
  {
   "metadata": {
    "ExecuteTime": {
     "end_time": "2025-05-16T14:14:41.162345Z",
     "start_time": "2025-05-16T14:14:41.155993Z"
    }
   },
   "cell_type": "code",
   "source": [
    "A = torch.randn(3,3) # Normal Distribution 의 n (nxn 행렬)\n",
    "B = torch.rand(3,3) # 이건 Uniform Distribution [0,1]\n",
    "print(A)\n",
    "print(B)"
   ],
   "id": "5712ed70e1b37295",
   "outputs": [
    {
     "name": "stdout",
     "output_type": "stream",
     "text": [
      "tensor([[ 0.1750,  0.6715,  0.8926],\n",
      "        [ 1.2048, -0.7561,  0.3858],\n",
      "        [ 1.8278, -0.7356,  0.2102]])\n",
      "tensor([[0.0039, 0.3497, 0.9437],\n",
      "        [0.5315, 0.8061, 0.7104],\n",
      "        [0.1813, 0.6204, 0.7493]])\n"
     ]
    }
   ],
   "execution_count": 2
  },
  {
   "metadata": {
    "ExecuteTime": {
     "end_time": "2025-05-16T14:14:41.255311Z",
     "start_time": "2025-05-16T14:14:41.249326Z"
    }
   },
   "cell_type": "code",
   "source": [
    "# 함수 안에는 torch 형태로 만들어진 tensor 만 파라미터로 입력될 수 있다\n",
    "A = torch.randn(3,3)\n",
    "print(A)\n",
    "print(torch.abs(A))\n",
    "print(torch.sqrt(torch.abs(A)))\n",
    "print(torch.exp(A))\n",
    "print(torch.log(torch.abs(A)))\n",
    "print(torch.log(torch.exp(torch.tensor(1)))) # lne^1 = 1\n",
    "print(torch.log10(torch.tensor(100)))\n",
    "print(torch.round(A)) # 반올림\n",
    "print(torch.round(A, decimals=2)) # 소수점 둘째 자리 까지 표현 (반올림 해서 )\n",
    "print(torch.floor(A)) # 내림\n",
    "print(torch.ceil(A)) # 올림\n"
   ],
   "id": "fd057be6772bef69",
   "outputs": [
    {
     "name": "stdout",
     "output_type": "stream",
     "text": [
      "tensor([[-0.4007, -0.9278, -2.6494],\n",
      "        [-0.5715,  1.5430,  0.4590],\n",
      "        [ 1.6073, -0.3073, -0.2891]])\n",
      "tensor([[0.4007, 0.9278, 2.6494],\n",
      "        [0.5715, 1.5430, 0.4590],\n",
      "        [1.6073, 0.3073, 0.2891]])\n",
      "tensor([[0.6330, 0.9632, 1.6277],\n",
      "        [0.7560, 1.2422, 0.6775],\n",
      "        [1.2678, 0.5543, 0.5377]])\n",
      "tensor([[0.6698, 0.3954, 0.0707],\n",
      "        [0.5647, 4.6786, 1.5826],\n",
      "        [4.9895, 0.7354, 0.7489]])\n",
      "tensor([[-0.9144, -0.0749,  0.9743],\n",
      "        [-0.5595,  0.4337, -0.7786],\n",
      "        [ 0.4746, -1.1800, -1.2410]])\n",
      "tensor(1.0000)\n",
      "tensor(2.)\n",
      "tensor([[-0., -1., -3.],\n",
      "        [-1.,  2.,  0.],\n",
      "        [ 2., -0., -0.]])\n",
      "tensor([[-0.4000, -0.9300, -2.6500],\n",
      "        [-0.5700,  1.5400,  0.4600],\n",
      "        [ 1.6100, -0.3100, -0.2900]])\n",
      "tensor([[-1., -1., -3.],\n",
      "        [-1.,  1.,  0.],\n",
      "        [ 1., -1., -1.]])\n",
      "tensor([[-0., -0., -2.],\n",
      "        [-0.,  2.,  1.],\n",
      "        [ 2., -0., -0.]])\n"
     ]
    }
   ],
   "execution_count": 3
  },
  {
   "metadata": {
    "ExecuteTime": {
     "end_time": "2025-05-16T14:14:41.279272Z",
     "start_time": "2025-05-16T14:14:41.273269Z"
    }
   },
   "cell_type": "code",
   "source": [
    "print(torch.sin(torch.tensor(torch.pi/6))) # type(torch.pi) <- float 자료형 만약 tensor 와 연산하면 tensor 로 변환해줌\n",
    "print(torch.cos(torch.tensor(torch.pi/3)))\n",
    "print(torch.tan(torch.tensor(torch.pi/4)))\n",
    "print(torch.tanh(torch.tensor(-10)))\n",
    "\n",
    "type(torch.tensor(1)/6) # <- tensor 와 다른 자료형 연산 가능 => 결과물은 tensor"
   ],
   "id": "fc9e05e38afd4fa5",
   "outputs": [
    {
     "name": "stdout",
     "output_type": "stream",
     "text": [
      "tensor(0.5000)\n",
      "tensor(0.5000)\n",
      "tensor(1.0000)\n",
      "tensor(-1.)\n"
     ]
    },
    {
     "data": {
      "text/plain": [
       "torch.Tensor"
      ]
     },
     "execution_count": 4,
     "metadata": {},
     "output_type": "execute_result"
    }
   ],
   "execution_count": 4
  },
  {
   "metadata": {
    "ExecuteTime": {
     "end_time": "2025-05-16T14:14:41.356224Z",
     "start_time": "2025-05-16T14:14:41.352545Z"
    }
   },
   "cell_type": "code",
   "source": [
    "torch.nan # not a anumber\n",
    "print(torch.log(torch.tensor(-1)))\n",
    "print(torch.isnan(torch.tensor([1,2,torch.nan,3,4])))\n",
    "print(torch.isinf((torch.tensor([1,2,torch.inf,3,4]))))"
   ],
   "id": "88e99778f40c00b2",
   "outputs": [
    {
     "name": "stdout",
     "output_type": "stream",
     "text": [
      "tensor(nan)\n",
      "tensor([False, False,  True, False, False])\n",
      "tensor([False, False,  True, False, False])\n"
     ]
    }
   ],
   "execution_count": 5
  },
  {
   "metadata": {
    "ExecuteTime": {
     "end_time": "2025-05-16T14:19:22.293234Z",
     "start_time": "2025-05-16T14:19:22.288466Z"
    }
   },
   "cell_type": "code",
   "source": [
    "A = torch.randn(3,4,5)\n",
    "print(A)\n",
    "# print(torch.max(A))\n",
    "#print(torch.max(A, dim=0)) # (3,4) 에서 3(열)에 대해서 비교\n",
    "#print(torch.max(A, dim=1)) # (3,4) 에서 4(행)에 대해서 비교 1D tensor 로 바꿔버림\n",
    "#print(torch.max(A, dim=2))\n",
    "# print(torch.max(A, dim=0, keepdim=True))\n",
    "# print(torch.max(A, dim=1, keepdim=True)) # 차원을 그대로 유지\n",
    "# print(torch.argmax(A)) # 가장 큰 값이 존재하는 인덱스\n",
    "print(torch.argmax(A, dim=2)) # 각 열에서 가장 큰 애가 존재하는 인덱스\n",
    "# print(torch.argmax(A, dim=1)) # 각 행에서 가장 큰 애가 존재하는 인덱스\n"
   ],
   "id": "a1646b296a071ae4",
   "outputs": [
    {
     "name": "stdout",
     "output_type": "stream",
     "text": [
      "tensor([[[ 1.0641, -0.9980,  0.6920,  0.0455,  0.6344],\n",
      "         [ 0.1636, -1.6442,  1.8894, -1.6691,  0.2871],\n",
      "         [ 0.0133, -0.5066, -1.0939, -0.3209,  0.1241],\n",
      "         [-1.0524, -0.1372, -0.3031, -1.0660,  0.5123]],\n",
      "\n",
      "        [[-0.9846, -0.4059,  1.0333,  2.3959, -0.6527],\n",
      "         [ 1.0649, -0.9239,  0.7984, -0.6144, -0.5708],\n",
      "         [-2.1332,  1.1214, -0.2015,  1.5854,  0.9433],\n",
      "         [-0.8142, -1.6534, -1.0408, -0.5477,  0.6139]],\n",
      "\n",
      "        [[ 0.8702,  0.3294, -0.4357,  1.7067, -0.7826],\n",
      "         [ 1.0820, -1.2372,  0.4651, -0.2033, -1.0718],\n",
      "         [ 0.6420,  1.5154, -0.4514, -0.0525,  1.3669],\n",
      "         [ 0.5568, -0.1611, -0.6119, -1.3669, -0.4984]]])\n",
      "tensor([[0, 2, 4, 4],\n",
      "        [3, 0, 3, 4],\n",
      "        [3, 0, 1, 0]])\n"
     ]
    }
   ],
   "execution_count": 15
  },
  {
   "metadata": {
    "ExecuteTime": {
     "end_time": "2025-05-16T14:22:21.953971Z",
     "start_time": "2025-05-16T14:22:21.948642Z"
    }
   },
   "cell_type": "code",
   "source": [
    "a = torch.randn(6,1)\n",
    "print(a)\n",
    "a_sorted = torch.sort(a, dim=0)\n",
    "print(a_sorted)\n",
    "a = torch.randn(6,1)\n",
    "print(a)\n",
    "print(a.sort(dim=0))\n",
    "print(a.sort(dim=0, descending=True))\n",
    "\n",
    "print(torch.max(a))\n",
    "print(a.max())\n",
    "print(torch.abs(a))  # 기능은 같다\n",
    "print(a.abs())"
   ],
   "id": "a5b5191df9852800",
   "outputs": [
    {
     "name": "stdout",
     "output_type": "stream",
     "text": [
      "tensor([[ 0.1477],\n",
      "        [-0.2246],\n",
      "        [-0.3723],\n",
      "        [ 0.4005],\n",
      "        [ 0.2066],\n",
      "        [ 0.3862]])\n",
      "torch.return_types.sort(\n",
      "values=tensor([[-0.3723],\n",
      "        [-0.2246],\n",
      "        [ 0.1477],\n",
      "        [ 0.2066],\n",
      "        [ 0.3862],\n",
      "        [ 0.4005]]),\n",
      "indices=tensor([[2],\n",
      "        [1],\n",
      "        [0],\n",
      "        [4],\n",
      "        [5],\n",
      "        [3]]))\n",
      "tensor([[-0.6945],\n",
      "        [-1.0171],\n",
      "        [ 1.6400],\n",
      "        [ 0.4626],\n",
      "        [ 0.5943],\n",
      "        [-0.2061]])\n",
      "torch.return_types.sort(\n",
      "values=tensor([[-1.0171],\n",
      "        [-0.6945],\n",
      "        [-0.2061],\n",
      "        [ 0.4626],\n",
      "        [ 0.5943],\n",
      "        [ 1.6400]]),\n",
      "indices=tensor([[1],\n",
      "        [0],\n",
      "        [5],\n",
      "        [3],\n",
      "        [4],\n",
      "        [2]]))\n",
      "torch.return_types.sort(\n",
      "values=tensor([[ 1.6400],\n",
      "        [ 0.5943],\n",
      "        [ 0.4626],\n",
      "        [-0.2061],\n",
      "        [-0.6945],\n",
      "        [-1.0171]]),\n",
      "indices=tensor([[2],\n",
      "        [4],\n",
      "        [3],\n",
      "        [5],\n",
      "        [0],\n",
      "        [1]]))\n",
      "tensor(1.6400)\n",
      "tensor(1.6400)\n",
      "tensor([[0.6945],\n",
      "        [1.0171],\n",
      "        [1.6400],\n",
      "        [0.4626],\n",
      "        [0.5943],\n",
      "        [0.2061]])\n",
      "tensor([[0.6945],\n",
      "        [1.0171],\n",
      "        [1.6400],\n",
      "        [0.4626],\n",
      "        [0.5943],\n",
      "        [0.2061]])\n"
     ]
    }
   ],
   "execution_count": 21
  },
  {
   "metadata": {
    "ExecuteTime": {
     "end_time": "2025-05-16T14:26:46.700775Z",
     "start_time": "2025-05-16T14:26:46.694299Z"
    }
   },
   "cell_type": "code",
   "source": [
    "A = torch.randn(3,4)\n",
    "print(A)\n",
    "print(torch.sum(A))\n",
    "print(torch.sum(A, dim=1))\n",
    "print(torch.sum(A, dim=1, keepdim=True))\n",
    "print(torch.mean(A))\n",
    "print(torch.mean(A, dim=1))\n",
    "print(torch.mean(A, dim=1, keepdim=True))\n",
    "print(torch.std(A))\n",
    "print(torch.std(A, dim=1))\n",
    "print(torch.std(A, dim=1, keepdim=True))\n",
    "print(torch.var(A))\n",
    "print(torch.var(A, dim=1))\n",
    "print(torch.var(A, dim=1, keepdim=True))"
   ],
   "id": "31d87ea1fb119beb",
   "outputs": [
    {
     "name": "stdout",
     "output_type": "stream",
     "text": [
      "tensor([[ 0.0339,  0.2506,  0.2146, -0.4199],\n",
      "        [-1.7640,  0.0202, -0.3513, -1.4506],\n",
      "        [-0.7139,  0.0457, -0.5266, -1.1033]])\n",
      "tensor(-5.7646)\n",
      "tensor([ 0.0792, -3.5457, -2.2982])\n",
      "tensor([[ 0.0792],\n",
      "        [-3.5457],\n",
      "        [-2.2982]])\n",
      "tensor(-0.4804)\n",
      "tensor([ 0.0198, -0.8864, -0.5745])\n",
      "tensor([[ 0.0198],\n",
      "        [-0.8864],\n",
      "        [-0.5745]])\n",
      "tensor(0.6649)\n",
      "tensor([0.3081, 0.8557, 0.4782])\n",
      "tensor([[0.3081],\n",
      "        [0.8557],\n",
      "        [0.4782]])\n",
      "tensor(0.4421)\n",
      "tensor([0.0949, 0.7323, 0.2287])\n",
      "tensor([[0.0949],\n",
      "        [0.7323],\n",
      "        [0.2287]])\n"
     ]
    }
   ],
   "execution_count": 28
  },
  {
   "metadata": {
    "ExecuteTime": {
     "end_time": "2025-05-16T14:27:57.432648Z",
     "start_time": "2025-05-16T14:27:57.429312Z"
    }
   },
   "cell_type": "code",
   "source": [
    "A = torch.randint(1,5,size=(12,))\n",
    "print(A)\n",
    "print(A.shape)\n",
    "\n",
    "B = A.reshape(2,2,3)\n",
    "print(B)\n",
    "print(B.shape)\n",
    "print(B.ndim)"
   ],
   "id": "f55f66db2fe89b60",
   "outputs": [
    {
     "name": "stdout",
     "output_type": "stream",
     "text": [
      "tensor([3, 3, 4, 3, 3, 2, 1, 2, 2, 3, 2, 3])\n",
      "torch.Size([12])\n",
      "tensor([[[3, 3, 4],\n",
      "         [3, 3, 2]],\n",
      "\n",
      "        [[1, 2, 2],\n",
      "         [3, 2, 3]]])\n",
      "torch.Size([2, 2, 3])\n",
      "3\n"
     ]
    }
   ],
   "execution_count": 32
  },
  {
   "metadata": {
    "ExecuteTime": {
     "end_time": "2025-05-16T14:33:06.501427Z",
     "start_time": "2025-05-16T14:33:06.497209Z"
    }
   },
   "cell_type": "code",
   "source": [
    "A = torch.arange(20,)\n",
    "print(A)\n",
    "print(A.reshape(4,5))\n",
    "print(A.reshape(4,-1).shape) # 행이 4개가 되도록 열의 수를 맞춰준다!\n",
    "print(A.reshape(2,5,-1).shape)\n",
    "print(A.reshape(1,-1).shape) # 2차원 행벡터\n",
    "print(A.reshape(-1,1).shape) # 2차원 열벡터"
   ],
   "id": "d5a69bc19d5ee8ea",
   "outputs": [
    {
     "name": "stdout",
     "output_type": "stream",
     "text": [
      "tensor([ 0,  1,  2,  3,  4,  5,  6,  7,  8,  9, 10, 11, 12, 13, 14, 15, 16, 17,\n",
      "        18, 19])\n",
      "tensor([[ 0,  1,  2,  3,  4],\n",
      "        [ 5,  6,  7,  8,  9],\n",
      "        [10, 11, 12, 13, 14],\n",
      "        [15, 16, 17, 18, 19]])\n",
      "torch.Size([4, 5])\n",
      "torch.Size([2, 5, 2])\n",
      "torch.Size([1, 20])\n",
      "torch.Size([20, 1])\n"
     ]
    }
   ],
   "execution_count": 33
  },
  {
   "metadata": {
    "ExecuteTime": {
     "end_time": "2025-05-16T14:38:35.211111Z",
     "start_time": "2025-05-16T14:38:35.205871Z"
    }
   },
   "cell_type": "code",
   "source": [
    "a = torch.tensor([1,2,3])\n",
    "b = torch.tensor([2,2,1])\n",
    "print(torch.sum(a*b))\n",
    "\n",
    "a = a.reshape(3,1)\n",
    "b = b.reshape(3,1)\n",
    "print(a.transpose(1,0)@b)  # 1번째 demension 랑 0번째 demension 이랑 transpose\n",
    "print(a.permute(1,0)@b)    # 0번째에는 1번째를 , 1번째에는 0번째를 가져오겠다 <- permute\n",
    "print(a.T@b)\n",
    "print(a.t()@b)\n",
    "\n",
    "A = torch.randn(4,3,6)\n",
    "print(A.permute(1,2,0).shape)\n",
    "print(A.transpose(1,2).shape) # transpose 는 둘끼리 자리 바꾸기만 가능\n"
   ],
   "id": "f1f0ea4541c216d3",
   "outputs": [
    {
     "name": "stdout",
     "output_type": "stream",
     "text": [
      "tensor(9)\n",
      "tensor([[9]])\n",
      "tensor([[9]])\n",
      "tensor([[9]])\n",
      "tensor([[9]])\n",
      "torch.Size([3, 6, 4])\n",
      "torch.Size([4, 6, 3])\n"
     ]
    }
   ],
   "execution_count": 38
  },
  {
   "metadata": {
    "ExecuteTime": {
     "end_time": "2025-05-16T14:40:37.921305Z",
     "start_time": "2025-05-16T14:40:37.918530Z"
    }
   },
   "cell_type": "code",
   "source": [
    "x = torch.randn(2,3,4,5,6)\n",
    "print(x[1,2,:,:,:].shape)\n",
    "print(x[1,2,...].shape) # x[1,2,:,:,:]  와 동일\n",
    "print(x[1,...,3,:].shape) # x[1,:,:,3,:] 와 동일"
   ],
   "id": "694e65b975157b95",
   "outputs": [
    {
     "name": "stdout",
     "output_type": "stream",
     "text": [
      "torch.Size([4, 5, 6])\n",
      "torch.Size([4, 5, 6])\n",
      "torch.Size([3, 4, 6])\n"
     ]
    }
   ],
   "execution_count": 40
  },
  {
   "metadata": {
    "ExecuteTime": {
     "end_time": "2025-05-16T14:44:57.639278Z",
     "start_time": "2025-05-16T14:44:57.633859Z"
    }
   },
   "cell_type": "code",
   "source": [
    "A = torch.ones(3,4)\n",
    "B = torch.zeros(3,4)\n",
    "C = torch.vstack([A,B]) # v = 0번째 차원\n",
    "D = torch.hstack([A,B]) # h = 1번째 차원에 쌓는다 ( A, B 사이즈 (2,3,4) 로 추가 해보기  -> 3차원일 때도 0, 1, 번째 차원 고정임 구린듯\n",
    "E = torch.cat([A,B], dim=0)\n",
    "F = torch.cat([A,B], dim=1)\n",
    "\n",
    "print(C)\n",
    "print(D)\n",
    "print(E)\n",
    "print(F)"
   ],
   "id": "41573eb5560f87c5",
   "outputs": [
    {
     "name": "stdout",
     "output_type": "stream",
     "text": [
      "tensor([[1., 1., 1., 1.],\n",
      "        [1., 1., 1., 1.],\n",
      "        [1., 1., 1., 1.],\n",
      "        [0., 0., 0., 0.],\n",
      "        [0., 0., 0., 0.],\n",
      "        [0., 0., 0., 0.]])\n",
      "tensor([[1., 1., 1., 1., 0., 0., 0., 0.],\n",
      "        [1., 1., 1., 1., 0., 0., 0., 0.],\n",
      "        [1., 1., 1., 1., 0., 0., 0., 0.]])\n",
      "tensor([[1., 1., 1., 1.],\n",
      "        [1., 1., 1., 1.],\n",
      "        [1., 1., 1., 1.],\n",
      "        [0., 0., 0., 0.],\n",
      "        [0., 0., 0., 0.],\n",
      "        [0., 0., 0., 0.]])\n",
      "tensor([[1., 1., 1., 1., 0., 0., 0., 0.],\n",
      "        [1., 1., 1., 1., 0., 0., 0., 0.],\n",
      "        [1., 1., 1., 1., 0., 0., 0., 0.]])\n"
     ]
    }
   ],
   "execution_count": 48
  },
  {
   "metadata": {
    "ExecuteTime": {
     "end_time": "2025-05-16T14:48:01.414190Z",
     "start_time": "2025-05-16T14:48:01.411459Z"
    }
   },
   "cell_type": "code",
   "source": [
    "A = torch.randn(1,1,1,3,1,1,1,4,1,1,1)\n",
    "A.squeeze()\n",
    "print(A.shape)\n",
    "print(A.squeeze().shape)\n",
    "print(A.squeeze(dim=(0,2,4,5)).shape)"
   ],
   "id": "1640250521702351",
   "outputs": [
    {
     "name": "stdout",
     "output_type": "stream",
     "text": [
      "torch.Size([1, 1, 1, 3, 1, 1, 1, 4, 1, 1, 1])\n",
      "torch.Size([3, 4])\n",
      "torch.Size([1, 3, 1, 4, 1, 1, 1])\n"
     ]
    }
   ],
   "execution_count": 52
  },
  {
   "metadata": {
    "ExecuteTime": {
     "end_time": "2025-05-16T14:48:41.863809Z",
     "start_time": "2025-05-16T14:48:41.860173Z"
    }
   },
   "cell_type": "code",
   "source": [
    "A = torch.randn(3,4)\n",
    "print(A.unsqueeze(dim=0).shape)\n",
    "print(A.unsqueeze(dim=1).shape)\n",
    "print(A.unsqueeze(dim=2).shape)  # reshape 으로도 충분히 가능"
   ],
   "id": "3b28d83fa35c9d2a",
   "outputs": [
    {
     "name": "stdout",
     "output_type": "stream",
     "text": [
      "torch.Size([1, 3, 4])\n",
      "torch.Size([3, 1, 4])\n",
      "torch.Size([3, 4, 1])\n"
     ]
    }
   ],
   "execution_count": 54
  },
  {
   "metadata": {
    "ExecuteTime": {
     "end_time": "2025-05-16T14:53:35.150598Z",
     "start_time": "2025-05-16T14:53:35.146738Z"
    }
   },
   "cell_type": "code",
   "source": [
    "A = torch.ones(3,4)\n",
    "B = torch.zeros(3,4)\n",
    "A = A.unsqueeze(dim=0)\n",
    "B = B.unsqueeze(dim=0)\n",
    "C=torch.cat([A,B], dim=0) # 차원을 추가 해서 쌓고 싶으면 unsqueeze 로 차원 먼저 늘려 놓는게 필수!\n",
    "print(C.shape)"
   ],
   "id": "debfa7638bef4fdf",
   "outputs": [
    {
     "name": "stdout",
     "output_type": "stream",
     "text": [
      "torch.Size([2, 3, 4])\n"
     ]
    }
   ],
   "execution_count": 66
  },
  {
   "metadata": {
    "ExecuteTime": {
     "end_time": "2025-05-16T14:53:33.365Z",
     "start_time": "2025-05-16T14:53:33.360610Z"
    }
   },
   "cell_type": "code",
   "source": [
    "A = torch.ones(3,4)\n",
    "B = torch.zeros(3,4)\n",
    "C=torch.stack([A,B])\n",
    "print(C) # unsqueeze 안하고 추가할 수 있는 방법 ( 차원을 추가(default는 dim = 0 ) 해서 쌓아줌)\n",
    "         # 차원을 추가해서 쌓는 방식이다보니 A,B shape 이 완전히 일치해야 함. concat 은 달라도 쌓을 차원 이외 차원들만 맞으면 됨"
   ],
   "id": "caf4454e8f816316",
   "outputs": [
    {
     "name": "stdout",
     "output_type": "stream",
     "text": [
      "tensor([[[1., 1., 1., 1.],\n",
      "         [1., 1., 1., 1.],\n",
      "         [1., 1., 1., 1.]],\n",
      "\n",
      "        [[0., 0., 0., 0.],\n",
      "         [0., 0., 0., 0.],\n",
      "         [0., 0., 0., 0.]]])\n"
     ]
    }
   ],
   "execution_count": 65
  },
  {
   "metadata": {
    "ExecuteTime": {
     "end_time": "2025-05-16T14:54:57.232008Z",
     "start_time": "2025-05-16T14:54:57.227934Z"
    }
   },
   "cell_type": "code",
   "source": [
    "A = torch.tensor([[1,2],[3,4]])\n",
    "B=A # 주소 까지 같이 들어감\n",
    "B[0,0] = 100\n",
    "\n",
    "print(A)\n",
    "print(B)\n",
    "\n",
    "# 같은 값이지만 다른걸 만들고싶다? -> clone 사용\n",
    "A = torch.tensor([[1,2],[3,4]])\n",
    "B=A.clone()\n",
    "B[0,0] = 100\n",
    "\n",
    "print(A)\n",
    "print(B)\n"
   ],
   "id": "7c8b685c9066640a",
   "outputs": [
    {
     "name": "stdout",
     "output_type": "stream",
     "text": [
      "tensor([[100,   2],\n",
      "        [  3,   4]])\n",
      "tensor([[100,   2],\n",
      "        [  3,   4]])\n",
      "tensor([[1, 2],\n",
      "        [3, 4]])\n",
      "tensor([[100,   2],\n",
      "        [  3,   4]])\n"
     ]
    }
   ],
   "execution_count": 68
  },
  {
   "metadata": {},
   "cell_type": "markdown",
   "source": "### @ 에 대해 좀 더 알아보자 ( 3차원 행렬에 대한 내적 연산 )",
   "id": "d3d85f669a655170"
  },
  {
   "metadata": {
    "ExecuteTime": {
     "end_time": "2025-05-16T15:00:29.063635Z",
     "start_time": "2025-05-16T15:00:29.059281Z"
    }
   },
   "cell_type": "code",
   "source": [
    "A = torch.randn(5,7)\n",
    "B = torch.randn(7,10)\n",
    "\n",
    "C = A@B\n",
    "print(C.shape)\n",
    "\n",
    "A = torch.randn(32,5,7)\n",
    "B = torch.randn(32,7,10) # 5행 7열 짜리 행렬을 32 (각각) 곱한걸 처리함\n",
    "C = A@B\n",
    "print(C.shape)"
   ],
   "id": "c1c805daefe61b78",
   "outputs": [
    {
     "name": "stdout",
     "output_type": "stream",
     "text": [
      "torch.Size([5, 10])\n",
      "torch.Size([32, 5, 10])\n"
     ]
    }
   ],
   "execution_count": 71
  },
  {
   "metadata": {
    "ExecuteTime": {
     "end_time": "2025-05-16T15:00:56.944295Z",
     "start_time": "2025-05-16T15:00:56.940857Z"
    }
   },
   "cell_type": "code",
   "source": [
    "A = torch.randn(32,5,7)\n",
    "B = torch.randn(7,10)\n",
    "\n",
    "C = A@B\n",
    "print(C.shape)  # 7x10 자리 행렬을 복제를 해서 구하더라~\n",
    "\n",
    "\n",
    "\n"
   ],
   "id": "6d77e0b1f78ac85d",
   "outputs": [
    {
     "name": "stdout",
     "output_type": "stream",
     "text": [
      "torch.Size([32, 5, 10])\n"
     ]
    }
   ],
   "execution_count": 72
  },
  {
   "metadata": {},
   "cell_type": "markdown",
   "source": [
    "### numby <-> torch 왔다갔다 가능\n",
    "\n",
    "- numpy 에서는 지원 되는데 torch 에서는 지원 안되는 함수들이 있어서 변환하는 과정이 필요\n",
    "- 특히 그림 그릴 때 많이 사용 ( matplotlib~ )"
   ],
   "id": "7ac531ec15b64474"
  },
  {
   "metadata": {
    "ExecuteTime": {
     "end_time": "2025-05-16T15:12:08.055692Z",
     "start_time": "2025-05-16T15:12:08.052801Z"
    }
   },
   "cell_type": "code",
   "source": [
    "import numpy as np\n",
    "import torch\n",
    "\n",
    "a = np.array([1,2,3])\n",
    "b = torch.tensor([1,2,3])\n",
    "A = torch.tensor(a) # A - torch.from_numpy(a)\n",
    "B=b.numpy() # B = np.array(b)\n",
    "print(type(A))\n",
    "print(type(B))\n",
    "\n"
   ],
   "id": "10b65e2e21e657a9",
   "outputs": [
    {
     "name": "stdout",
     "output_type": "stream",
     "text": [
      "<class 'torch.Tensor'>\n",
      "<class 'numpy.ndarray'>\n"
     ]
    }
   ],
   "execution_count": 75
  },
  {
   "metadata": {},
   "cell_type": "code",
   "outputs": [],
   "execution_count": null,
   "source": "",
   "id": "f48690bdf3f35af6"
  }
 ],
 "metadata": {
  "kernelspec": {
   "display_name": "Python 3",
   "language": "python",
   "name": "python3"
  },
  "language_info": {
   "codemirror_mode": {
    "name": "ipython",
    "version": 2
   },
   "file_extension": ".py",
   "mimetype": "text/x-python",
   "name": "python",
   "nbconvert_exporter": "python",
   "pygments_lexer": "ipython2",
   "version": "2.7.6"
  }
 },
 "nbformat": 4,
 "nbformat_minor": 5
}
