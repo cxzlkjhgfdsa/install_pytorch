{
 "cells": [
  {
   "metadata": {},
   "cell_type": "markdown",
   "source": "### Pytorch 의 여러가지 함수들",
   "id": "469feb312a6574de"
  },
  {
   "metadata": {
    "ExecuteTime": {
     "end_time": "2025-05-15T05:03:21.994635Z",
     "start_time": "2025-05-15T05:03:21.244833Z"
    }
   },
   "cell_type": "code",
   "source": "import torch",
   "id": "cb139185727268cf",
   "outputs": [],
   "execution_count": 2
  },
  {
   "metadata": {
    "ExecuteTime": {
     "end_time": "2025-05-15T05:03:22.015027Z",
     "start_time": "2025-05-15T05:03:22.011026Z"
    }
   },
   "cell_type": "code",
   "source": [
    "A = torch.randn(3,3) # Normal Distribution 의 n (nxn 행렬)\n",
    "B = torch.rand(3,3) # 이건 Uniform Distribution [0,1]\n",
    "print(A)\n",
    "print(B)"
   ],
   "id": "5712ed70e1b37295",
   "outputs": [
    {
     "name": "stdout",
     "output_type": "stream",
     "text": [
      "tensor([[ 0.8010, -0.6262, -0.7666],\n",
      "        [-0.0398, -0.8924, -0.6409],\n",
      "        [ 1.2998,  0.8018,  0.1749]])\n",
      "tensor([[0.2491, 0.0307, 0.6859],\n",
      "        [0.5170, 0.2977, 0.3969],\n",
      "        [0.6347, 0.3746, 0.3916]])\n"
     ]
    }
   ],
   "execution_count": 3
  },
  {
   "metadata": {
    "ExecuteTime": {
     "end_time": "2025-05-15T05:03:22.054284Z",
     "start_time": "2025-05-15T05:03:22.048995Z"
    }
   },
   "cell_type": "code",
   "source": [
    "# 함수 안에는 torch 형태로 만들어진 tensor 만 파라미터로 입력될 수 있다\n",
    "A = torch.randn(3,3)\n",
    "print(A)\n",
    "print(torch.abs(A))\n",
    "print(torch.sqrt(torch.abs(A)))\n",
    "print(torch.exp(A))\n",
    "print(torch.log(torch.abs(A)))\n",
    "print(torch.log(torch.exp(torch.tensor(1)))) # lne^1 = 1\n",
    "print(torch.log10(torch.tensor(100)))\n",
    "print(torch.round(A)) # 반올림\n",
    "print(torch.round(A, decimals=2)) # 소수점 둘째 자리 까지 표현 (반올림 해서 )\n",
    "print(torch.floor(A)) # 내림\n",
    "print(torch.ceil(A)) # 올림\n"
   ],
   "id": "fd057be6772bef69",
   "outputs": [
    {
     "name": "stdout",
     "output_type": "stream",
     "text": [
      "tensor([[ 1.2208, -1.0398, -1.2982],\n",
      "        [ 0.0344, -1.4960,  1.0387],\n",
      "        [-0.1995,  0.7890, -0.5198]])\n",
      "tensor([[1.2208, 1.0398, 1.2982],\n",
      "        [0.0344, 1.4960, 1.0387],\n",
      "        [0.1995, 0.7890, 0.5198]])\n",
      "tensor([[1.1049, 1.0197, 1.1394],\n",
      "        [0.1856, 1.2231, 1.0192],\n",
      "        [0.4467, 0.8883, 0.7210]])\n",
      "tensor([[3.3899, 0.3535, 0.2730],\n",
      "        [1.0350, 0.2240, 2.8256],\n",
      "        [0.8191, 2.2012, 0.5946]])\n",
      "tensor([[ 0.1995,  0.0390,  0.2610],\n",
      "        [-3.3683,  0.4028,  0.0380],\n",
      "        [-1.6119, -0.2370, -0.6543]])\n",
      "tensor(1.0000)\n",
      "tensor(2.)\n",
      "tensor([[ 1., -1., -1.],\n",
      "        [ 0., -1.,  1.],\n",
      "        [-0.,  1., -1.]])\n",
      "tensor([[ 1.2200, -1.0400, -1.3000],\n",
      "        [ 0.0300, -1.5000,  1.0400],\n",
      "        [-0.2000,  0.7900, -0.5200]])\n",
      "tensor([[ 1., -2., -2.],\n",
      "        [ 0., -2.,  1.],\n",
      "        [-1.,  0., -1.]])\n",
      "tensor([[ 2., -1., -1.],\n",
      "        [ 1., -1.,  2.],\n",
      "        [-0.,  1., -0.]])\n"
     ]
    }
   ],
   "execution_count": 4
  },
  {
   "metadata": {
    "ExecuteTime": {
     "end_time": "2025-05-15T05:06:50.910017Z",
     "start_time": "2025-05-15T05:06:50.904241Z"
    }
   },
   "cell_type": "code",
   "source": [
    "print(torch.sin(torch.tensor(torch.pi/6))) # type(torch.pi) <- float 자료형 만약 tensor 와 연산하면 tensor 로 변환해줌\n",
    "print(torch.cos(torch.tensor(torch.pi/3)))\n",
    "print(torch.tan(torch.tensor(torch.pi/4)))\n",
    "print(torch.tanh(torch.tensor(-10)))\n",
    "\n",
    "type(torch.tensor(1)/6) # <- tensor 와 다른 자료형 연산 가능 => 결과물은 tensor"
   ],
   "id": "fc9e05e38afd4fa5",
   "outputs": [
    {
     "name": "stdout",
     "output_type": "stream",
     "text": [
      "tensor(0.5000)\n",
      "tensor(0.5000)\n",
      "tensor(1.0000)\n",
      "tensor(-1.)\n"
     ]
    },
    {
     "data": {
      "text/plain": [
       "torch.Tensor"
      ]
     },
     "execution_count": 9,
     "metadata": {},
     "output_type": "execute_result"
    }
   ],
   "execution_count": 9
  },
  {
   "metadata": {
    "ExecuteTime": {
     "end_time": "2025-05-15T05:09:29.432671Z",
     "start_time": "2025-05-15T05:09:29.427975Z"
    }
   },
   "cell_type": "code",
   "source": [
    "torch.nan # not a anumber\n",
    "print(torch.log(torch.tensor(-1)))\n",
    "print(torch.isnan(torch.tensor([1,2,torch.nan,3,4])))\n",
    "print(torch.isinf((torch.tensor([1,2,torch.inf,3,4]))))"
   ],
   "id": "88e99778f40c00b2",
   "outputs": [
    {
     "name": "stdout",
     "output_type": "stream",
     "text": [
      "tensor(nan)\n",
      "tensor([False, False,  True, False, False])\n",
      "tensor([False, False,  True, False, False])\n"
     ]
    }
   ],
   "execution_count": 16
  },
  {
   "metadata": {
    "ExecuteTime": {
     "end_time": "2025-05-15T05:17:54.607044Z",
     "start_time": "2025-05-15T05:17:54.602358Z"
    }
   },
   "cell_type": "code",
   "source": [
    "A = torch.randn(3,4)\n",
    "print(A)\n",
    "print(torch.max(A))\n",
    "print(torch.max(A, dim=0)) # (3,4) 에서 3(열)에 대해서 비교\n",
    "print(torch.max(A, dim=1)) # (3,4) 에서 4(행)에 대해서 비교 1D tensor 로 바꿔버림\n",
    "print(torch.max(A, dim=0, keepdim=True))\n",
    "print(torch.max(A, dim=1, keepdim=True)) # 차원을 그대로 유지\n",
    "print(torch.argmax(A)) # 가장 큰 값이 존재하는 인덱스\n",
    "print(torch.argmax(A, dim=0)) # 각 열에서 가장 큰 애가 존재하는 인덱스\n",
    "print(torch.argmax(A, dim=1)) # 각 행에서 가장 큰 애가 존재하는 인덱스\n"
   ],
   "id": "a1646b296a071ae4",
   "outputs": [
    {
     "name": "stdout",
     "output_type": "stream",
     "text": [
      "tensor([[-0.6243, -0.8116, -0.7354, -1.2361],\n",
      "        [-1.7427,  0.3682, -0.7586, -0.2814],\n",
      "        [-0.6425,  0.6566, -0.7613,  1.3410]])\n",
      "tensor(11)\n",
      "tensor([0, 2, 0, 2])\n",
      "tensor([0, 1, 3])\n"
     ]
    }
   ],
   "execution_count": 27
  },
  {
   "metadata": {},
   "cell_type": "code",
   "outputs": [],
   "execution_count": null,
   "source": "",
   "id": "a5b5191df9852800"
  }
 ],
 "metadata": {
  "kernelspec": {
   "display_name": "Python 3",
   "language": "python",
   "name": "python3"
  },
  "language_info": {
   "codemirror_mode": {
    "name": "ipython",
    "version": 2
   },
   "file_extension": ".py",
   "mimetype": "text/x-python",
   "name": "python",
   "nbconvert_exporter": "python",
   "pygments_lexer": "ipython2",
   "version": "2.7.6"
  }
 },
 "nbformat": 4,
 "nbformat_minor": 5
}
