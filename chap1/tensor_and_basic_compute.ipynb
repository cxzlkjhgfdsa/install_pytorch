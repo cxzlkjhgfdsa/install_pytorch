{
 "cells": [
  {
   "metadata": {},
   "cell_type": "markdown",
   "source": "### Pytorch 텐서와 기본 연산",
   "id": "693669f91d2c2cb4"
  },
  {
   "cell_type": "code",
   "id": "initial_id",
   "metadata": {
    "collapsed": true,
    "ExecuteTime": {
     "end_time": "2025-05-14T01:10:35.998750Z",
     "start_time": "2025-05-14T01:10:35.993472Z"
    }
   },
   "source": [
    "import torch\n",
    "\n",
    "a = torch.tensor([1,2,3,4])\n",
    "print(a)\n",
    "print(type(a))\n",
    "print(a.dtype) # data type\n",
    "print(a.shape)\n",
    "b = torch.tensor([1,2,3.1])\n",
    "print(b.dtype)  # 행렬 내의 오소 중 하나라도 실수면 tensor 의 데이터 타입이 실수로 변함\n",
    "print(b)"
   ],
   "outputs": [
    {
     "name": "stdout",
     "output_type": "stream",
     "text": [
      "tensor([1, 2, 3, 4])\n",
      "<class 'torch.Tensor'>\n",
      "torch.int64\n",
      "torch.Size([4])\n",
      "torch.float32\n",
      "tensor([1.0000, 2.0000, 3.1000])\n"
     ]
    }
   ],
   "execution_count": 5
  },
  {
   "metadata": {
    "ExecuteTime": {
     "end_time": "2025-05-14T01:10:55.956403Z",
     "start_time": "2025-05-14T01:10:55.952896Z"
    }
   },
   "cell_type": "code",
   "source": [
    "A = torch.tensor([[1,2,3],[3,4,5]])\n",
    "# A = torch.tensor([ [1,2], [3,4,5] ]) # 리스트 와 달리 행렬 처리라 각 행에 해당하는 숫자의 개수가 같아야함\n",
    "print(A)\n",
    "print(A.shape)\n",
    "print(A.ndim)\n",
    "print(A.numel()) # number of elements"
   ],
   "id": "f0b6d4072efd3f2e",
   "outputs": [
    {
     "name": "stdout",
     "output_type": "stream",
     "text": [
      "tensor([[1, 2, 3],\n",
      "        [3, 4, 5]])\n",
      "torch.Size([2, 3])\n",
      "2\n",
      "6\n"
     ]
    }
   ],
   "execution_count": 7
  },
  {
   "metadata": {
    "ExecuteTime": {
     "end_time": "2025-05-14T01:16:17.417021Z",
     "start_time": "2025-05-14T01:16:17.411738Z"
    }
   },
   "cell_type": "code",
   "source": [
    "print(torch.zeros(5))\n",
    "print(torch.zeros_like(A))\n",
    "print(torch.ones(5))\n",
    "print(torch.zeros(3,3))\n",
    "print(torch.arange(3,10,2)) # range 랑 역할 같음 -> tensor 로 만들어줌\n",
    "print(torch.arange(0,1,0.1)) # 소수점 가능\n",
    "print(torch.linspace(0,1,10)) # 0에서부터 1 포함 10개로 나눠줌"
   ],
   "id": "18ac5c3449410788",
   "outputs": [
    {
     "name": "stdout",
     "output_type": "stream",
     "text": [
      "tensor([0., 0., 0., 0., 0.])\n",
      "tensor([[0, 0, 0],\n",
      "        [0, 0, 0]])\n",
      "tensor([1., 1., 1., 1., 1.])\n",
      "tensor([[0., 0., 0.],\n",
      "        [0., 0., 0.],\n",
      "        [0., 0., 0.]])\n",
      "tensor([3, 5, 7, 9])\n",
      "tensor([0.0000, 0.1000, 0.2000, 0.3000, 0.4000, 0.5000, 0.6000, 0.7000, 0.8000,\n",
      "        0.9000])\n",
      "tensor([0.0000, 0.1111, 0.2222, 0.3333, 0.4444, 0.5556, 0.6667, 0.7778, 0.8889,\n",
      "        1.0000])\n"
     ]
    }
   ],
   "execution_count": 10
  },
  {
   "metadata": {
    "ExecuteTime": {
     "end_time": "2025-05-14T01:16:46.788322Z",
     "start_time": "2025-05-14T01:16:46.784986Z"
    }
   },
   "cell_type": "code",
   "source": [
    "a = torch.tensor([1,2,3])\n",
    "b = torch.tensor([4,5,6])\n",
    "c = a + b\n",
    "print(c)"
   ],
   "id": "bdc43e5690b6df5b",
   "outputs": [
    {
     "name": "stdout",
     "output_type": "stream",
     "text": [
      "tensor([5, 7, 9])\n"
     ]
    }
   ],
   "execution_count": 11
  },
  {
   "metadata": {
    "ExecuteTime": {
     "end_time": "2025-05-14T01:18:14.585426Z",
     "start_time": "2025-05-14T01:18:14.579707Z"
    }
   },
   "cell_type": "code",
   "source": [
    "A = torch.tensor([[1,2,3],[1,2,3]])\n",
    "B = torch.tensor([[4,5,6],[1,1,1]])\n",
    "C = A+B\n",
    "D = A-B\n",
    "print(C)\n",
    "print(D)\n",
    "print()\n",
    "print(A*B) # 곱셈은? 성분끼리의 곱! -> element-wise product(Hadamard product) , 선형대수 에서의 행렬 곱 아님\n",
    "print(A/B) # 나누기도 마찬가지\n",
    "print(B**2) # 제곱도 각 성분에 대해서 해준다"
   ],
   "id": "7e6be8d1832f261d",
   "outputs": [
    {
     "name": "stdout",
     "output_type": "stream",
     "text": [
      "tensor([[5, 7, 9],\n",
      "        [2, 3, 4]])\n",
      "tensor([[-3, -3, -3],\n",
      "        [ 0,  1,  2]])\n",
      "\n",
      "tensor([[ 4, 10, 18],\n",
      "        [ 1,  2,  3]])\n",
      "tensor([[0.2500, 0.4000, 0.5000],\n",
      "        [1.0000, 2.0000, 3.0000]])\n",
      "tensor([[16, 25, 36],\n",
      "        [ 1,  1,  1]])\n"
     ]
    }
   ],
   "execution_count": 13
  },
  {
   "metadata": {
    "ExecuteTime": {
     "end_time": "2025-05-14T01:23:15.072155Z",
     "start_time": "2025-05-14T01:23:15.067433Z"
    }
   },
   "cell_type": "code",
   "source": [
    "A = torch.tensor([[1,2],[3,4]])\n",
    "B = torch.tensor([[1,2],[3,4]])\n",
    "print(A*B) # element wise product\n",
    "print(A@B) # 이게 진짜 행렬의 곱"
   ],
   "id": "b763d35c8965c728",
   "outputs": [
    {
     "name": "stdout",
     "output_type": "stream",
     "text": [
      "tensor([[ 1,  4],\n",
      "        [ 9, 16]])\n",
      "tensor([[ 7, 10],\n",
      "        [15, 22]])\n"
     ]
    }
   ],
   "execution_count": 14
  },
  {
   "metadata": {},
   "cell_type": "code",
   "outputs": [],
   "execution_count": null,
   "source": "",
   "id": "aab1bcb7bf1fb3d1"
  }
 ],
 "metadata": {
  "kernelspec": {
   "display_name": "Python 3",
   "language": "python",
   "name": "python3"
  },
  "language_info": {
   "codemirror_mode": {
    "name": "ipython",
    "version": 2
   },
   "file_extension": ".py",
   "mimetype": "text/x-python",
   "name": "python",
   "nbconvert_exporter": "python",
   "pygments_lexer": "ipython2",
   "version": "2.7.6"
  }
 },
 "nbformat": 4,
 "nbformat_minor": 5
}
